{
 "cells": [
  {
   "cell_type": "markdown",
   "id": "6c3c1b8c",
   "metadata": {},
   "source": [
    "# Import Packages"
   ]
  },
  {
   "cell_type": "code",
   "execution_count": 18,
   "id": "b9e8a9cc",
   "metadata": {},
   "outputs": [],
   "source": [
    "import pandas as pd\n",
    "import numpy as np\n",
    "from sklearn import preprocessing\n",
    "import ast\n",
    "from sklearn.feature_extraction.text import TfidfVectorizer, CountVectorizer\n",
    "from sklearn.preprocessing import normalize\n",
    "from sklearn.model_selection import train_test_split\n",
    "from sklearn.neighbors import KNeighborsClassifier\n",
    "from scipy.spatial import distance\n",
    "import matplotlib.pyplot as plt\n",
    "from sklearn.metrics import accuracy_score\n",
    "from jcopml.plot import plot_confusion_matrix\n",
    "from sklearn.metrics import classification_report"
   ]
  },
  {
   "cell_type": "markdown",
   "id": "0df0fac2",
   "metadata": {},
   "source": [
    "# Load Preprocessed Dataset"
   ]
  },
  {
   "cell_type": "code",
   "execution_count": 19,
   "id": "5d2bbb44",
   "metadata": {},
   "outputs": [
    {
     "data": {
      "text/html": [
       "<div>\n",
       "<style scoped>\n",
       "    .dataframe tbody tr th:only-of-type {\n",
       "        vertical-align: middle;\n",
       "    }\n",
       "\n",
       "    .dataframe tbody tr th {\n",
       "        vertical-align: top;\n",
       "    }\n",
       "\n",
       "    .dataframe thead th {\n",
       "        text-align: right;\n",
       "    }\n",
       "</style>\n",
       "<table border=\"1\" class=\"dataframe\">\n",
       "  <thead>\n",
       "    <tr style=\"text-align: right;\">\n",
       "      <th></th>\n",
       "      <th>stemmed</th>\n",
       "      <th>sentimen</th>\n",
       "    </tr>\n",
       "  </thead>\n",
       "  <tbody>\n",
       "    <tr>\n",
       "      <th>0</th>\n",
       "      <td>['jangkau', 'hubung', 'kavling', 'tanah', 'jua...</td>\n",
       "      <td>Netral</td>\n",
       "    </tr>\n",
       "    <tr>\n",
       "      <th>1</th>\n",
       "      <td>['akwowakoawkaow', 'kos', 'gawe', 'jakarta', '...</td>\n",
       "      <td>Netral</td>\n",
       "    </tr>\n",
       "    <tr>\n",
       "      <th>2</th>\n",
       "      <td>['damage', 'parah', 'banget', 'nder', 'take', ...</td>\n",
       "      <td>Netral</td>\n",
       "    </tr>\n",
       "    <tr>\n",
       "      <th>3</th>\n",
       "      <td>['goodbener', 'ajak', 'warga', 'dki', 'jakarta...</td>\n",
       "      <td>Netral</td>\n",
       "    </tr>\n",
       "    <tr>\n",
       "      <th>4</th>\n",
       "      <td>['delapan', 'dukung', 'anies', 'butuh', 'jakar...</td>\n",
       "      <td>Netral</td>\n",
       "    </tr>\n",
       "    <tr>\n",
       "      <th>...</th>\n",
       "      <td>...</td>\n",
       "      <td>...</td>\n",
       "    </tr>\n",
       "    <tr>\n",
       "      <th>95</th>\n",
       "      <td>['saking', 'otak', 'gagas', 'ngibul', 'ngarang...</td>\n",
       "      <td>Netral</td>\n",
       "    </tr>\n",
       "    <tr>\n",
       "      <th>96</th>\n",
       "      <td>['cari', 'tanah', 'kavling', 'bangun', 'kebun'...</td>\n",
       "      <td>Netral</td>\n",
       "    </tr>\n",
       "    <tr>\n",
       "      <th>97</th>\n",
       "      <td>['march', 'jakarta', 'indonesia', 'tickets', '...</td>\n",
       "      <td>Netral</td>\n",
       "    </tr>\n",
       "    <tr>\n",
       "      <th>98</th>\n",
       "      <td>['kenneth', 'perintah', 'pusat', 'coba', 'jali...</td>\n",
       "      <td>Netral</td>\n",
       "    </tr>\n",
       "    <tr>\n",
       "      <th>99</th>\n",
       "      <td>['tugas', 'tunjang', 'medis', 'rsud', 'jakarta...</td>\n",
       "      <td>Netral</td>\n",
       "    </tr>\n",
       "  </tbody>\n",
       "</table>\n",
       "<p>100 rows × 2 columns</p>\n",
       "</div>"
      ],
      "text/plain": [
       "                                              stemmed sentimen\n",
       "0   ['jangkau', 'hubung', 'kavling', 'tanah', 'jua...   Netral\n",
       "1   ['akwowakoawkaow', 'kos', 'gawe', 'jakarta', '...   Netral\n",
       "2   ['damage', 'parah', 'banget', 'nder', 'take', ...   Netral\n",
       "3   ['goodbener', 'ajak', 'warga', 'dki', 'jakarta...   Netral\n",
       "4   ['delapan', 'dukung', 'anies', 'butuh', 'jakar...   Netral\n",
       "..                                                ...      ...\n",
       "95  ['saking', 'otak', 'gagas', 'ngibul', 'ngarang...   Netral\n",
       "96  ['cari', 'tanah', 'kavling', 'bangun', 'kebun'...   Netral\n",
       "97  ['march', 'jakarta', 'indonesia', 'tickets', '...   Netral\n",
       "98  ['kenneth', 'perintah', 'pusat', 'coba', 'jali...   Netral\n",
       "99  ['tugas', 'tunjang', 'medis', 'rsud', 'jakarta...   Netral\n",
       "\n",
       "[100 rows x 2 columns]"
      ]
     },
     "execution_count": 19,
     "metadata": {},
     "output_type": "execute_result"
    }
   ],
   "source": [
    "df = pd.read_csv(\"data_prep.csv\", usecols=['stemmed','sentimen'], encoding='latin-1')\n",
    "df"
   ]
  },
  {
   "cell_type": "markdown",
   "id": "0a7e28b6",
   "metadata": {},
   "source": [
    "# Data Preparation"
   ]
  },
  {
   "cell_type": "markdown",
   "id": "3a7680bb",
   "metadata": {},
   "source": [
    "## Encoding Categorical Values"
   ]
  },
  {
   "cell_type": "code",
   "execution_count": 20,
   "id": "17ad8404",
   "metadata": {},
   "outputs": [],
   "source": [
    "le = preprocessing.LabelEncoder()\n",
    "df['sentimen']=le.fit_transform(df['sentimen'])"
   ]
  },
  {
   "cell_type": "markdown",
   "id": "a0040b77",
   "metadata": {},
   "source": [
    "## Combining Fractions of Words into One Sentence"
   ]
  },
  {
   "cell_type": "code",
   "execution_count": 21,
   "id": "ce7e4db8",
   "metadata": {},
   "outputs": [
    {
     "data": {
      "text/html": [
       "<div>\n",
       "<style scoped>\n",
       "    .dataframe tbody tr th:only-of-type {\n",
       "        vertical-align: middle;\n",
       "    }\n",
       "\n",
       "    .dataframe tbody tr th {\n",
       "        vertical-align: top;\n",
       "    }\n",
       "\n",
       "    .dataframe thead th {\n",
       "        text-align: right;\n",
       "    }\n",
       "</style>\n",
       "<table border=\"1\" class=\"dataframe\">\n",
       "  <thead>\n",
       "    <tr style=\"text-align: right;\">\n",
       "      <th></th>\n",
       "      <th>stemmed</th>\n",
       "      <th>sentimen</th>\n",
       "    </tr>\n",
       "  </thead>\n",
       "  <tbody>\n",
       "    <tr>\n",
       "      <th>0</th>\n",
       "      <td>jangkau hubung kavling tanah jual murah kavlin...</td>\n",
       "      <td>1</td>\n",
       "    </tr>\n",
       "    <tr>\n",
       "      <th>1</th>\n",
       "      <td>akwowakoawkaow kos gawe jakarta wae</td>\n",
       "      <td>1</td>\n",
       "    </tr>\n",
       "    <tr>\n",
       "      <th>2</th>\n",
       "      <td>damage parah banget nder take all potong harga...</td>\n",
       "      <td>1</td>\n",
       "    </tr>\n",
       "    <tr>\n",
       "      <th>3</th>\n",
       "      <td>goodbener ajak warga dki jakarta gapai berkah ...</td>\n",
       "      <td>1</td>\n",
       "    </tr>\n",
       "    <tr>\n",
       "      <th>4</th>\n",
       "      <td>delapan dukung anies butuh jakarta perintah pusat</td>\n",
       "      <td>1</td>\n",
       "    </tr>\n",
       "    <tr>\n",
       "      <th>...</th>\n",
       "      <td>...</td>\n",
       "      <td>...</td>\n",
       "    </tr>\n",
       "    <tr>\n",
       "      <th>95</th>\n",
       "      <td>saking otak gagas ngibul ngarang cerita muka t...</td>\n",
       "      <td>1</td>\n",
       "    </tr>\n",
       "    <tr>\n",
       "      <th>96</th>\n",
       "      <td>cari tanah kavling bangun kebun buah jangkau h...</td>\n",
       "      <td>1</td>\n",
       "    </tr>\n",
       "    <tr>\n",
       "      <th>97</th>\n",
       "      <td>march jakarta indonesia tickets info</td>\n",
       "      <td>1</td>\n",
       "    </tr>\n",
       "    <tr>\n",
       "      <th>98</th>\n",
       "      <td>kenneth perintah pusat coba jalin komunikasi k...</td>\n",
       "      <td>1</td>\n",
       "    </tr>\n",
       "    <tr>\n",
       "      <th>99</th>\n",
       "      <td>tugas tunjang medis rsud jakarta anak sakit ba...</td>\n",
       "      <td>1</td>\n",
       "    </tr>\n",
       "  </tbody>\n",
       "</table>\n",
       "<p>100 rows × 2 columns</p>\n",
       "</div>"
      ],
      "text/plain": [
       "                                              stemmed  sentimen\n",
       "0   jangkau hubung kavling tanah jual murah kavlin...         1\n",
       "1                 akwowakoawkaow kos gawe jakarta wae         1\n",
       "2   damage parah banget nder take all potong harga...         1\n",
       "3   goodbener ajak warga dki jakarta gapai berkah ...         1\n",
       "4   delapan dukung anies butuh jakarta perintah pusat         1\n",
       "..                                                ...       ...\n",
       "95  saking otak gagas ngibul ngarang cerita muka t...         1\n",
       "96  cari tanah kavling bangun kebun buah jangkau h...         1\n",
       "97               march jakarta indonesia tickets info         1\n",
       "98  kenneth perintah pusat coba jalin komunikasi k...         1\n",
       "99  tugas tunjang medis rsud jakarta anak sakit ba...         1\n",
       "\n",
       "[100 rows x 2 columns]"
      ]
     },
     "execution_count": 21,
     "metadata": {},
     "output_type": "execute_result"
    }
   ],
   "source": [
    "def join_text_list(texts):\n",
    "    texts = ast.literal_eval(texts)\n",
    "    return ' '.join([text for text in texts])\n",
    "\n",
    "df['stemmed'] = df['stemmed'].apply(join_text_list)\n",
    "df"
   ]
  },
  {
   "cell_type": "markdown",
   "id": "4ea270c5",
   "metadata": {},
   "source": [
    "## Pembobotan TF-IDF"
   ]
  },
  {
   "cell_type": "code",
   "execution_count": 22,
   "id": "35304833",
   "metadata": {},
   "outputs": [
    {
     "data": {
      "text/html": [
       "<div>\n",
       "<style scoped>\n",
       "    .dataframe tbody tr th:only-of-type {\n",
       "        vertical-align: middle;\n",
       "    }\n",
       "\n",
       "    .dataframe tbody tr th {\n",
       "        vertical-align: top;\n",
       "    }\n",
       "\n",
       "    .dataframe thead th {\n",
       "        text-align: right;\n",
       "    }\n",
       "</style>\n",
       "<table border=\"1\" class=\"dataframe\">\n",
       "  <thead>\n",
       "    <tr style=\"text-align: right;\">\n",
       "      <th></th>\n",
       "      <th>stemmed</th>\n",
       "      <th>sentimen</th>\n",
       "    </tr>\n",
       "  </thead>\n",
       "  <tbody>\n",
       "    <tr>\n",
       "      <th>0</th>\n",
       "      <td>0.000000</td>\n",
       "      <td>1</td>\n",
       "    </tr>\n",
       "    <tr>\n",
       "      <th>1</th>\n",
       "      <td>0.000000</td>\n",
       "      <td>1</td>\n",
       "    </tr>\n",
       "    <tr>\n",
       "      <th>2</th>\n",
       "      <td>0.000000</td>\n",
       "      <td>1</td>\n",
       "    </tr>\n",
       "    <tr>\n",
       "      <th>3</th>\n",
       "      <td>0.643794</td>\n",
       "      <td>1</td>\n",
       "    </tr>\n",
       "    <tr>\n",
       "      <th>4</th>\n",
       "      <td>0.000000</td>\n",
       "      <td>1</td>\n",
       "    </tr>\n",
       "    <tr>\n",
       "      <th>...</th>\n",
       "      <td>...</td>\n",
       "      <td>...</td>\n",
       "    </tr>\n",
       "    <tr>\n",
       "      <th>95</th>\n",
       "      <td>0.000000</td>\n",
       "      <td>1</td>\n",
       "    </tr>\n",
       "    <tr>\n",
       "      <th>96</th>\n",
       "      <td>0.000000</td>\n",
       "      <td>1</td>\n",
       "    </tr>\n",
       "    <tr>\n",
       "      <th>97</th>\n",
       "      <td>0.000000</td>\n",
       "      <td>1</td>\n",
       "    </tr>\n",
       "    <tr>\n",
       "      <th>98</th>\n",
       "      <td>0.000000</td>\n",
       "      <td>1</td>\n",
       "    </tr>\n",
       "    <tr>\n",
       "      <th>99</th>\n",
       "      <td>0.000000</td>\n",
       "      <td>1</td>\n",
       "    </tr>\n",
       "  </tbody>\n",
       "</table>\n",
       "<p>100 rows × 2 columns</p>\n",
       "</div>"
      ],
      "text/plain": [
       "     stemmed  sentimen\n",
       "0   0.000000         1\n",
       "1   0.000000         1\n",
       "2   0.000000         1\n",
       "3   0.643794         1\n",
       "4   0.000000         1\n",
       "..       ...       ...\n",
       "95  0.000000         1\n",
       "96  0.000000         1\n",
       "97  0.000000         1\n",
       "98  0.000000         1\n",
       "99  0.000000         1\n",
       "\n",
       "[100 rows x 2 columns]"
      ]
     },
     "execution_count": 22,
     "metadata": {},
     "output_type": "execute_result"
    }
   ],
   "source": [
    "max_features = 200\n",
    "\n",
    "# calc TF vector\n",
    "count = CountVectorizer(max_features=max_features)\n",
    "TF_vector = count.fit_transform(df['stemmed'])\n",
    "\n",
    "# normalize TF vector\n",
    "normalized_TF_vector = normalize(TF_vector, norm='l1', axis=1)\n",
    "\n",
    "# calc IDF\n",
    "tfidf = TfidfVectorizer(max_features=max_features, ngram_range=(1,3), smooth_idf=False)\n",
    "tfs = tfidf.fit_transform(df['stemmed'])\n",
    "IDF_vector = tfidf.idf_\n",
    "\n",
    "# hitung TF x IDF sehingga dihasilkan TFIDF matrix / vector\n",
    "tfidf_mat = normalized_TF_vector.multiply(IDF_vector).toarray()\n",
    "df['stemmed'] = tfidf_mat\n",
    "df"
   ]
  },
  {
   "cell_type": "markdown",
   "id": "257bab7e",
   "metadata": {},
   "source": [
    "# Data Splitting "
   ]
  },
  {
   "cell_type": "markdown",
   "id": "a8b5d1d2",
   "metadata": {},
   "source": [
    "Mari kita pisahkan kumpulan data menjadi kumpulan pelatihan dan pengujian, yang akan dipilih secara acak semu untuk membuat pemisahan 80-20%. Kita akan menggunakan set pelatihan untuk melatih model dan melakukan beberapa pengoptimalan. Kita akan menggunakan set pengujian, yang akan bertindak sebagai data yang tidak terlihat, untuk menilai kinerja model.\n",
    "\n",
    "Saat menggunakan metode ini untuk pembelajaran mesin, selalu berhati-hatilah dalam menggunakan set pengujian untuk membuat model. Kebocoran data adalah masalah umum yang dapat mengakibatkan overfitting."
   ]
  },
  {
   "cell_type": "code",
   "execution_count": 23,
   "id": "a77ed61d",
   "metadata": {},
   "outputs": [],
   "source": [
    "#Mendefinisikan x and y\n",
    "X = df.drop(['sentimen'],axis=1)\n",
    "y = df['sentimen']\n",
    "\n",
    "# pembagian data (80:20)\n",
    "X_train, X_test, y_train, y_test = train_test_split(X, y, test_size=0.2, random_state = 0, stratify = y)"
   ]
  },
  {
   "cell_type": "markdown",
   "id": "858cf93d",
   "metadata": {},
   "source": [
    "# Pemodelan K-Nearest Neighbor (KNN)"
   ]
  },
  {
   "cell_type": "markdown",
   "id": "d024670c",
   "metadata": {},
   "source": [
    "Pemodelan KNN dimulai dengan setting jumlah tetangga dan metrics yang digunakan. Berikut adalah parameter yang akan kita atur dalam pemodelan ini:\n",
    "\n",
    "euclide model : Model Square Euclidean dengan menggunakan parameter metric = distance.sqeuclidean\n",
    "\n",
    "manhattan model : Model Manhattan dengan menggunakan parameter metric = distance.cityblock\n",
    "\n",
    "Prinsip kerja K-Nearest Neighbor (KNN) adalah mencari jarak terdekat antara data yang akan dievaluasi dengan K-Nearest Neighbor terdekatnya dalam data pelatihan."
   ]
  },
  {
   "cell_type": "markdown",
   "id": "ad9e64bc",
   "metadata": {},
   "source": [
    "## Euclidean Model"
   ]
  },
  {
   "cell_type": "code",
   "execution_count": 24,
   "id": "56c92c87",
   "metadata": {},
   "outputs": [
    {
     "data": {
      "text/plain": [
       "KNeighborsClassifier(metric=<function sqeuclidean at 0x000001A77FB7C1F0>,\n",
       "                     n_neighbors=2)"
      ]
     },
     "execution_count": 24,
     "metadata": {},
     "output_type": "execute_result"
    }
   ],
   "source": [
    "euclidean_model = KNeighborsClassifier(n_neighbors=2, metric=distance.sqeuclidean) \n",
    "euclidean_model.fit(X_train,y_train)"
   ]
  },
  {
   "cell_type": "markdown",
   "id": "405a69f3",
   "metadata": {},
   "source": [
    "## Manhattan Model"
   ]
  },
  {
   "cell_type": "code",
   "execution_count": 25,
   "id": "4b47600f",
   "metadata": {},
   "outputs": [
    {
     "data": {
      "text/plain": [
       "KNeighborsClassifier(metric=<function cityblock at 0x000001A77FB7C5E0>,\n",
       "                     n_neighbors=2)"
      ]
     },
     "execution_count": 25,
     "metadata": {},
     "output_type": "execute_result"
    }
   ],
   "source": [
    "manhattan_model = KNeighborsClassifier(n_neighbors=2, metric=distance.cityblock)\n",
    "manhattan_model.fit(X_train, y_train)"
   ]
  },
  {
   "cell_type": "markdown",
   "id": "30f5290c",
   "metadata": {},
   "source": [
    "# Evaluasi Model KNN"
   ]
  },
  {
   "cell_type": "markdown",
   "id": "60401df4",
   "metadata": {},
   "source": [
    "## Evaluasi Euclidean Model"
   ]
  },
  {
   "cell_type": "code",
   "execution_count": 26,
   "id": "7755c020",
   "metadata": {},
   "outputs": [
    {
     "name": "stderr",
     "output_type": "stream",
     "text": [
      "C:\\Users\\taqiy\\AppData\\Roaming\\Python\\Python39\\site-packages\\sklearn\\base.py:441: UserWarning: X does not have valid feature names, but KNeighborsClassifier was fitted with feature names\n",
      "  warnings.warn(\n",
      "C:\\Users\\taqiy\\AppData\\Roaming\\Python\\Python39\\site-packages\\sklearn\\base.py:441: UserWarning: X does not have valid feature names, but KNeighborsClassifier was fitted with feature names\n",
      "  warnings.warn(\n",
      "C:\\Users\\taqiy\\AppData\\Roaming\\Python\\Python39\\site-packages\\sklearn\\base.py:441: UserWarning: X does not have valid feature names, but KNeighborsClassifier was fitted with feature names\n",
      "  warnings.warn(\n",
      "C:\\Users\\taqiy\\AppData\\Roaming\\Python\\Python39\\site-packages\\sklearn\\base.py:441: UserWarning: X does not have valid feature names, but KNeighborsClassifier was fitted with feature names\n",
      "  warnings.warn(\n",
      "C:\\Users\\taqiy\\AppData\\Roaming\\Python\\Python39\\site-packages\\sklearn\\base.py:441: UserWarning: X does not have valid feature names, but KNeighborsClassifier was fitted with feature names\n",
      "  warnings.warn(\n"
     ]
    },
    {
     "data": {
      "image/png": "[encoded data removed]",
      "text/plain": [
       "<Figure size 792x360 with 2 Axes>"
      ]
     },
     "metadata": {
      "needs_background": "light"
     },
     "output_type": "display_data"
    }
   ],
   "source": [
    "y_pred_euclidean = euclidean_model.predict(X_test)\n",
    "\n",
    "# Melihat evaluasi model menggunakan confusion matrix\n",
    "plot_confusion_matrix(X_train, y_train, X_test, y_test, euclidean_model)"
   ]
  },
  {
   "cell_type": "code",
   "execution_count": 27,
   "id": "c6d050d8",
   "metadata": {},
   "outputs": [
    {
     "name": "stdout",
     "output_type": "stream",
     "text": [
      "              precision    recall  f1-score   support\n",
      "\n",
      "           0       0.00      0.00      0.00         1\n",
      "           1       0.85      1.00      0.92        17\n",
      "           2       0.00      0.00      0.00         2\n",
      "\n",
      "    accuracy                           0.85        20\n",
      "   macro avg       0.28      0.33      0.31        20\n",
      "weighted avg       0.72      0.85      0.78        20\n",
      "\n"
     ]
    },
    {
     "name": "stderr",
     "output_type": "stream",
     "text": [
      "C:\\Users\\taqiy\\AppData\\Roaming\\Python\\Python39\\site-packages\\sklearn\\metrics\\_classification.py:1308: UndefinedMetricWarning: Precision and F-score are ill-defined and being set to 0.0 in labels with no predicted samples. Use `zero_division` parameter to control this behavior.\n",
      "  _warn_prf(average, modifier, msg_start, len(result))\n",
      "C:\\Users\\taqiy\\AppData\\Roaming\\Python\\Python39\\site-packages\\sklearn\\metrics\\_classification.py:1308: UndefinedMetricWarning: Precision and F-score are ill-defined and being set to 0.0 in labels with no predicted samples. Use `zero_division` parameter to control this behavior.\n",
      "  _warn_prf(average, modifier, msg_start, len(result))\n",
      "C:\\Users\\taqiy\\AppData\\Roaming\\Python\\Python39\\site-packages\\sklearn\\metrics\\_classification.py:1308: UndefinedMetricWarning: Precision and F-score are ill-defined and being set to 0.0 in labels with no predicted samples. Use `zero_division` parameter to control this behavior.\n",
      "  _warn_prf(average, modifier, msg_start, len(result))\n"
     ]
    }
   ],
   "source": [
    "# Melihat hasil klasifikasi\n",
    "print(classification_report(y_test, y_pred_euclidean))"
   ]
  },
  {
   "cell_type": "markdown",
   "id": "66e9741e",
   "metadata": {},
   "source": [
    "## Evaluasi Manhattan Model"
   ]
  },
  {
   "cell_type": "code",
   "execution_count": 28,
   "id": "f2442383",
   "metadata": {},
   "outputs": [
    {
     "name": "stderr",
     "output_type": "stream",
     "text": [
      "C:\\Users\\taqiy\\AppData\\Roaming\\Python\\Python39\\site-packages\\sklearn\\base.py:441: UserWarning: X does not have valid feature names, but KNeighborsClassifier was fitted with feature names\n",
      "  warnings.warn(\n",
      "C:\\Users\\taqiy\\AppData\\Roaming\\Python\\Python39\\site-packages\\sklearn\\base.py:441: UserWarning: X does not have valid feature names, but KNeighborsClassifier was fitted with feature names\n",
      "  warnings.warn(\n",
      "C:\\Users\\taqiy\\AppData\\Roaming\\Python\\Python39\\site-packages\\sklearn\\base.py:441: UserWarning: X does not have valid feature names, but KNeighborsClassifier was fitted with feature names\n",
      "  warnings.warn(\n",
      "C:\\Users\\taqiy\\AppData\\Roaming\\Python\\Python39\\site-packages\\sklearn\\base.py:441: UserWarning: X does not have valid feature names, but KNeighborsClassifier was fitted with feature names\n",
      "  warnings.warn(\n",
      "C:\\Users\\taqiy\\AppData\\Roaming\\Python\\Python39\\site-packages\\sklearn\\base.py:441: UserWarning: X does not have valid feature names, but KNeighborsClassifier was fitted with feature names\n",
      "  warnings.warn(\n"
     ]
    },
    {
     "data": {
      "image/png": "[encoded data removed]",
      "text/plain": [
       "<Figure size 792x360 with 2 Axes>"
      ]
     },
     "metadata": {
      "needs_background": "light"
     },
     "output_type": "display_data"
    }
   ],
   "source": [
    "y_pred_manhattan = manhattan_model.predict(X_test)\n",
    "\n",
    "# Melihat evaluasi model menggunakan confusion matrix\n",
    "plot_confusion_matrix(X_train, y_train, X_test, y_test, manhattan_model)"
   ]
  },
  {
   "cell_type": "code",
   "execution_count": 29,
   "id": "3fe7de71",
   "metadata": {},
   "outputs": [
    {
     "name": "stdout",
     "output_type": "stream",
     "text": [
      "              precision    recall  f1-score   support\n",
      "\n",
      "           0       0.00      0.00      0.00         1\n",
      "           1       0.85      1.00      0.92        17\n",
      "           2       0.00      0.00      0.00         2\n",
      "\n",
      "    accuracy                           0.85        20\n",
      "   macro avg       0.28      0.33      0.31        20\n",
      "weighted avg       0.72      0.85      0.78        20\n",
      "\n"
     ]
    },
    {
     "name": "stderr",
     "output_type": "stream",
     "text": [
      "C:\\Users\\taqiy\\AppData\\Roaming\\Python\\Python39\\site-packages\\sklearn\\metrics\\_classification.py:1308: UndefinedMetricWarning: Precision and F-score are ill-defined and being set to 0.0 in labels with no predicted samples. Use `zero_division` parameter to control this behavior.\n",
      "  _warn_prf(average, modifier, msg_start, len(result))\n",
      "C:\\Users\\taqiy\\AppData\\Roaming\\Python\\Python39\\site-packages\\sklearn\\metrics\\_classification.py:1308: UndefinedMetricWarning: Precision and F-score are ill-defined and being set to 0.0 in labels with no predicted samples. Use `zero_division` parameter to control this behavior.\n",
      "  _warn_prf(average, modifier, msg_start, len(result))\n",
      "C:\\Users\\taqiy\\AppData\\Roaming\\Python\\Python39\\site-packages\\sklearn\\metrics\\_classification.py:1308: UndefinedMetricWarning: Precision and F-score are ill-defined and being set to 0.0 in labels with no predicted samples. Use `zero_division` parameter to control this behavior.\n",
      "  _warn_prf(average, modifier, msg_start, len(result))\n"
     ]
    }
   ],
   "source": [
    "# Melihat hasil klasifikasi\n",
    "print(classification_report(y_test, y_pred_manhattan))"
   ]
  },
  {
   "cell_type": "code",
   "execution_count": null,
   "id": "e478aa63",
   "metadata": {},
   "outputs": [],
   "source": []
  }
 ],
 "metadata": {
  "kernelspec": {
   "display_name": "Python 3 (ipykernel)",
   "language": "python",
   "name": "python3"
  },
  "language_info": {
   "codemirror_mode": {
    "name": "ipython",
    "version": 3
   },
   "file_extension": ".py",
   "mimetype": "text/x-python",
   "name": "python",
   "nbconvert_exporter": "python",
   "pygments_lexer": "ipython3",
   "version": "3.9.7"
  }
 },
 "nbformat": 4,
 "nbformat_minor": 5
}
