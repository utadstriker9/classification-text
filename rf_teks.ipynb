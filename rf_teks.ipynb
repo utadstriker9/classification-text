{
 "cells": [
  {
   "cell_type": "markdown",
   "id": "6c3c1b8c",
   "metadata": {},
   "source": [
    "# Import Packages"
   ]
  },
  {
   "cell_type": "code",
   "execution_count": 90,
   "id": "b9e8a9cc",
   "metadata": {},
   "outputs": [],
   "source": [
    "import pandas as pd\n",
    "import numpy as np\n",
    "from sklearn import preprocessing\n",
    "import ast\n",
    "from sklearn.feature_extraction.text import TfidfVectorizer, CountVectorizer\n",
    "from sklearn.preprocessing import normalize\n",
    "from sklearn.model_selection import train_test_split, GridSearchCV\n",
    "from sklearn.ensemble import RandomForestClassifier\n",
    "import matplotlib.pyplot as plt\n",
    "from sklearn.metrics import accuracy_score\n",
    "from jcopml.plot import plot_confusion_matrix\n",
    "from sklearn.metrics import classification_report"
   ]
  },
  {
   "cell_type": "markdown",
   "id": "0df0fac2",
   "metadata": {},
   "source": [
    "# Load Preprocessed Dataset"
   ]
  },
  {
   "cell_type": "code",
   "execution_count": 50,
   "id": "5d2bbb44",
   "metadata": {},
   "outputs": [
    {
     "data": {
      "text/html": [
       "<div>\n",
       "<style scoped>\n",
       "    .dataframe tbody tr th:only-of-type {\n",
       "        vertical-align: middle;\n",
       "    }\n",
       "\n",
       "    .dataframe tbody tr th {\n",
       "        vertical-align: top;\n",
       "    }\n",
       "\n",
       "    .dataframe thead th {\n",
       "        text-align: right;\n",
       "    }\n",
       "</style>\n",
       "<table border=\"1\" class=\"dataframe\">\n",
       "  <thead>\n",
       "    <tr style=\"text-align: right;\">\n",
       "      <th></th>\n",
       "      <th>stemmed</th>\n",
       "      <th>sentimen</th>\n",
       "    </tr>\n",
       "  </thead>\n",
       "  <tbody>\n",
       "    <tr>\n",
       "      <th>0</th>\n",
       "      <td>['jangkau', 'hubung', 'kavling', 'tanah', 'jua...</td>\n",
       "      <td>Netral</td>\n",
       "    </tr>\n",
       "    <tr>\n",
       "      <th>1</th>\n",
       "      <td>['akwowakoawkaow', 'kos', 'gawe', 'jakarta', '...</td>\n",
       "      <td>Netral</td>\n",
       "    </tr>\n",
       "    <tr>\n",
       "      <th>2</th>\n",
       "      <td>['damage', 'parah', 'banget', 'nder', 'take', ...</td>\n",
       "      <td>Netral</td>\n",
       "    </tr>\n",
       "    <tr>\n",
       "      <th>3</th>\n",
       "      <td>['goodbener', 'ajak', 'warga', 'dki', 'jakarta...</td>\n",
       "      <td>Netral</td>\n",
       "    </tr>\n",
       "    <tr>\n",
       "      <th>4</th>\n",
       "      <td>['delapan', 'dukung', 'anies', 'butuh', 'jakar...</td>\n",
       "      <td>Netral</td>\n",
       "    </tr>\n",
       "    <tr>\n",
       "      <th>...</th>\n",
       "      <td>...</td>\n",
       "      <td>...</td>\n",
       "    </tr>\n",
       "    <tr>\n",
       "      <th>95</th>\n",
       "      <td>['saking', 'otak', 'gagas', 'ngibul', 'ngarang...</td>\n",
       "      <td>Netral</td>\n",
       "    </tr>\n",
       "    <tr>\n",
       "      <th>96</th>\n",
       "      <td>['cari', 'tanah', 'kavling', 'bangun', 'kebun'...</td>\n",
       "      <td>Netral</td>\n",
       "    </tr>\n",
       "    <tr>\n",
       "      <th>97</th>\n",
       "      <td>['march', 'jakarta', 'indonesia', 'tickets', '...</td>\n",
       "      <td>Netral</td>\n",
       "    </tr>\n",
       "    <tr>\n",
       "      <th>98</th>\n",
       "      <td>['kenneth', 'perintah', 'pusat', 'coba', 'jali...</td>\n",
       "      <td>Netral</td>\n",
       "    </tr>\n",
       "    <tr>\n",
       "      <th>99</th>\n",
       "      <td>['tugas', 'tunjang', 'medis', 'rsud', 'jakarta...</td>\n",
       "      <td>Netral</td>\n",
       "    </tr>\n",
       "  </tbody>\n",
       "</table>\n",
       "<p>100 rows × 2 columns</p>\n",
       "</div>"
      ],
      "text/plain": [
       "                                              stemmed sentimen\n",
       "0   ['jangkau', 'hubung', 'kavling', 'tanah', 'jua...   Netral\n",
       "1   ['akwowakoawkaow', 'kos', 'gawe', 'jakarta', '...   Netral\n",
       "2   ['damage', 'parah', 'banget', 'nder', 'take', ...   Netral\n",
       "3   ['goodbener', 'ajak', 'warga', 'dki', 'jakarta...   Netral\n",
       "4   ['delapan', 'dukung', 'anies', 'butuh', 'jakar...   Netral\n",
       "..                                                ...      ...\n",
       "95  ['saking', 'otak', 'gagas', 'ngibul', 'ngarang...   Netral\n",
       "96  ['cari', 'tanah', 'kavling', 'bangun', 'kebun'...   Netral\n",
       "97  ['march', 'jakarta', 'indonesia', 'tickets', '...   Netral\n",
       "98  ['kenneth', 'perintah', 'pusat', 'coba', 'jali...   Netral\n",
       "99  ['tugas', 'tunjang', 'medis', 'rsud', 'jakarta...   Netral\n",
       "\n",
       "[100 rows x 2 columns]"
      ]
     },
     "execution_count": 50,
     "metadata": {},
     "output_type": "execute_result"
    }
   ],
   "source": [
    "df = pd.read_csv(\"data_prep.csv\", usecols=['stemmed','sentimen'], encoding='latin-1')\n",
    "df"
   ]
  },
  {
   "cell_type": "markdown",
   "id": "0a7e28b6",
   "metadata": {},
   "source": [
    "# Data Preparation"
   ]
  },
  {
   "cell_type": "markdown",
   "id": "3a7680bb",
   "metadata": {},
   "source": [
    "## Encoding Categorical Values"
   ]
  },
  {
   "cell_type": "code",
   "execution_count": 51,
   "id": "17ad8404",
   "metadata": {},
   "outputs": [],
   "source": [
    "le = preprocessing.LabelEncoder()\n",
    "df['sentimen']=le.fit_transform(df['sentimen'])"
   ]
  },
  {
   "cell_type": "markdown",
   "id": "a0040b77",
   "metadata": {},
   "source": [
    "## Combining Fractions of Words into One Sentence"
   ]
  },
  {
   "cell_type": "code",
   "execution_count": 52,
   "id": "ce7e4db8",
   "metadata": {},
   "outputs": [
    {
     "data": {
      "text/html": [
       "<div>\n",
       "<style scoped>\n",
       "    .dataframe tbody tr th:only-of-type {\n",
       "        vertical-align: middle;\n",
       "    }\n",
       "\n",
       "    .dataframe tbody tr th {\n",
       "        vertical-align: top;\n",
       "    }\n",
       "\n",
       "    .dataframe thead th {\n",
       "        text-align: right;\n",
       "    }\n",
       "</style>\n",
       "<table border=\"1\" class=\"dataframe\">\n",
       "  <thead>\n",
       "    <tr style=\"text-align: right;\">\n",
       "      <th></th>\n",
       "      <th>stemmed</th>\n",
       "      <th>sentimen</th>\n",
       "    </tr>\n",
       "  </thead>\n",
       "  <tbody>\n",
       "    <tr>\n",
       "      <th>0</th>\n",
       "      <td>jangkau hubung kavling tanah jual murah kavlin...</td>\n",
       "      <td>1</td>\n",
       "    </tr>\n",
       "    <tr>\n",
       "      <th>1</th>\n",
       "      <td>akwowakoawkaow kos gawe jakarta wae</td>\n",
       "      <td>1</td>\n",
       "    </tr>\n",
       "    <tr>\n",
       "      <th>2</th>\n",
       "      <td>damage parah banget nder take all potong harga...</td>\n",
       "      <td>1</td>\n",
       "    </tr>\n",
       "    <tr>\n",
       "      <th>3</th>\n",
       "      <td>goodbener ajak warga dki jakarta gapai berkah ...</td>\n",
       "      <td>1</td>\n",
       "    </tr>\n",
       "    <tr>\n",
       "      <th>4</th>\n",
       "      <td>delapan dukung anies butuh jakarta perintah pusat</td>\n",
       "      <td>1</td>\n",
       "    </tr>\n",
       "    <tr>\n",
       "      <th>...</th>\n",
       "      <td>...</td>\n",
       "      <td>...</td>\n",
       "    </tr>\n",
       "    <tr>\n",
       "      <th>95</th>\n",
       "      <td>saking otak gagas ngibul ngarang cerita muka t...</td>\n",
       "      <td>1</td>\n",
       "    </tr>\n",
       "    <tr>\n",
       "      <th>96</th>\n",
       "      <td>cari tanah kavling bangun kebun buah jangkau h...</td>\n",
       "      <td>1</td>\n",
       "    </tr>\n",
       "    <tr>\n",
       "      <th>97</th>\n",
       "      <td>march jakarta indonesia tickets info</td>\n",
       "      <td>1</td>\n",
       "    </tr>\n",
       "    <tr>\n",
       "      <th>98</th>\n",
       "      <td>kenneth perintah pusat coba jalin komunikasi k...</td>\n",
       "      <td>1</td>\n",
       "    </tr>\n",
       "    <tr>\n",
       "      <th>99</th>\n",
       "      <td>tugas tunjang medis rsud jakarta anak sakit ba...</td>\n",
       "      <td>1</td>\n",
       "    </tr>\n",
       "  </tbody>\n",
       "</table>\n",
       "<p>100 rows × 2 columns</p>\n",
       "</div>"
      ],
      "text/plain": [
       "                                              stemmed  sentimen\n",
       "0   jangkau hubung kavling tanah jual murah kavlin...         1\n",
       "1                 akwowakoawkaow kos gawe jakarta wae         1\n",
       "2   damage parah banget nder take all potong harga...         1\n",
       "3   goodbener ajak warga dki jakarta gapai berkah ...         1\n",
       "4   delapan dukung anies butuh jakarta perintah pusat         1\n",
       "..                                                ...       ...\n",
       "95  saking otak gagas ngibul ngarang cerita muka t...         1\n",
       "96  cari tanah kavling bangun kebun buah jangkau h...         1\n",
       "97               march jakarta indonesia tickets info         1\n",
       "98  kenneth perintah pusat coba jalin komunikasi k...         1\n",
       "99  tugas tunjang medis rsud jakarta anak sakit ba...         1\n",
       "\n",
       "[100 rows x 2 columns]"
      ]
     },
     "execution_count": 52,
     "metadata": {},
     "output_type": "execute_result"
    }
   ],
   "source": [
    "def join_text_list(texts):\n",
    "    texts = ast.literal_eval(texts)\n",
    "    return ' '.join([text for text in texts])\n",
    "\n",
    "df['stemmed'] = df['stemmed'].apply(join_text_list)\n",
    "df"
   ]
  },
  {
   "cell_type": "markdown",
   "id": "4ea270c5",
   "metadata": {},
   "source": [
    "## Pembobotan TF-IDF"
   ]
  },
  {
   "cell_type": "code",
   "execution_count": 53,
   "id": "35304833",
   "metadata": {},
   "outputs": [],
   "source": [
    "max_features = 200\n",
    "\n",
    "# calc TF vector\n",
    "count = CountVectorizer(max_features=max_features)\n",
    "TF_vector = count.fit_transform(df['stemmed'])\n",
    "\n",
    "# normalize TF vector\n",
    "normalized_TF_vector = normalize(TF_vector, norm='l1', axis=1)\n",
    "\n",
    "# calc IDF\n",
    "tfidf = TfidfVectorizer(max_features=max_features, ngram_range=(1,3), smooth_idf=False)\n",
    "tfs = tfidf.fit_transform(df['stemmed'])\n",
    "IDF_vector = tfidf.idf_\n",
    "\n",
    "# hitung TF x IDF sehingga dihasilkan TFIDF matrix / vector\n",
    "tfidf_mat = normalized_TF_vector.multiply(IDF_vector).toarray()\n",
    "df['stemmed'] = tfidf_mat"
   ]
  },
  {
   "cell_type": "markdown",
   "id": "257bab7e",
   "metadata": {},
   "source": [
    "# Data Splitting "
   ]
  },
  {
   "cell_type": "markdown",
   "id": "a8b5d1d2",
   "metadata": {},
   "source": [
    "Mari kita pisahkan kumpulan data menjadi kumpulan pelatihan dan pengujian, yang akan dipilih secara acak semu untuk membuat pemisahan 80-20%. Kita akan menggunakan set pelatihan untuk melatih model dan melakukan beberapa pengoptimalan. Kita akan menggunakan set pengujian, yang akan bertindak sebagai data yang tidak terlihat, untuk menilai kinerja model.\n",
    "\n",
    "Saat menggunakan metode ini untuk pembelajaran mesin, selalu berhati-hatilah dalam menggunakan set pengujian untuk membuat model. Kebocoran data adalah masalah umum yang dapat mengakibatkan overfitting."
   ]
  },
  {
   "cell_type": "code",
   "execution_count": 70,
   "id": "a77ed61d",
   "metadata": {},
   "outputs": [],
   "source": [
    "#Mendefinisikan x and y\n",
    "X = df.drop(['sentimen'],axis=1)\n",
    "y = df['sentimen']\n",
    "\n",
    "# pembagian data (80:20)\n",
    "X_train, X_test, y_train, y_test = train_test_split(X, y, test_size=0.2, random_state = 0, stratify = y)"
   ]
  },
  {
   "cell_type": "code",
   "execution_count": 71,
   "id": "9b485b7a",
   "metadata": {},
   "outputs": [],
   "source": [
    "y_train = y_train.ravel() \n",
    "y_test = y_test.values.ravel() "
   ]
  },
  {
   "cell_type": "markdown",
   "id": "25042c7f",
   "metadata": {},
   "source": [
    "ravel digunakan untuk membersihkan set pengujian untuk menghindari pesan peringatan di masa mendatang"
   ]
  },
  {
   "cell_type": "markdown",
   "id": "858cf93d",
   "metadata": {},
   "source": [
    "# Pemodelan Random Forest"
   ]
  },
  {
   "cell_type": "markdown",
   "id": "d024670c",
   "metadata": {},
   "source": [
    "Pemodelan Random Forest dimulai dengan setting parameter yang ada. Berikut adalah parameter yang akan kita atur dalam pemodelan ini:\n",
    "\n",
    "max_depth: Pemisahan maksimum untuk semua pohon di hutan. \n",
    "\n",
    "bootstrap: Indikator apakah kita ingin menggunakan sampel bootstrap atau tidak saat membangun pohon.\n",
    "\n",
    "max_features: Jumlah maksimum fitur yang akan digunakan dalam pemisahan simpul — perbedaan utama antara bagging tree dan random forest. Biasanya, pemodelan memiliki nilai yang kurang dari p, di mana p adalah semua fitur dalam kumpulan data.\n",
    "\n",
    "criterion: Ini adalah metrik yang digunakan untuk menilai kriteria penghentian untuk pohon keputusan.\n",
    "\n",
    "Setelah kita membuat instance model kita, kita akan melanjutkan dan setting parameter kita."
   ]
  },
  {
   "cell_type": "code",
   "execution_count": 72,
   "id": "56c92c87",
   "metadata": {},
   "outputs": [],
   "source": [
    "clf = RandomForestClassifier(random_state=0)"
   ]
  },
  {
   "cell_type": "markdown",
   "id": "11acde3f",
   "metadata": {},
   "source": [
    "Atur random state untuk reproduktifitas"
   ]
  },
  {
   "cell_type": "markdown",
   "id": "405a69f3",
   "metadata": {},
   "source": [
    "## Hyperparameters Optimization"
   ]
  },
  {
   "cell_type": "markdown",
   "id": "140ac373",
   "metadata": {},
   "source": [
    "Memanfaatkan fungsionalitas GridSearchCV, mari buat kamus dengan parameter yang ingin kita optimalkan untuk membuat model terbaik untuk data kita. Menyetel n_jobs ke 3 memberitahu pencarian grid untuk menjalankan tiga pekerjaan secara paralel, mengurangi waktu yang dibutuhkan fungsi untuk menghitung parameter terbaik.\n",
    "\n",
    "Ini akan membantu mengatur parameter yang akan kita gunakan untuk menyetel satu parameter terakhir: jumlah pohon di hutan kita."
   ]
  },
  {
   "cell_type": "code",
   "execution_count": 73,
   "id": "4b47600f",
   "metadata": {},
   "outputs": [
    {
     "name": "stderr",
     "output_type": "stream",
     "text": [
      "C:\\Users\\taqiy\\AppData\\Roaming\\Python\\Python39\\site-packages\\sklearn\\model_selection\\_split.py:676: UserWarning: The least populated class in y has only 6 members, which is less than n_splits=10.\n",
      "  warnings.warn(\n"
     ]
    },
    {
     "name": "stdout",
     "output_type": "stream",
     "text": [
      "Best Parameters using grid search: \n",
      " {'bootstrap': True, 'criterion': 'gini', 'max_depth': 2, 'max_features': 'sqrt'}\n",
      "Time taken in grid search:  13.30\n"
     ]
    }
   ],
   "source": [
    "import time\n",
    "\n",
    "start = time.time()\n",
    "np.random.seed(0)\n",
    "\n",
    "param_dist = {'max_depth': [2, 3, 4],\n",
    "              'bootstrap': [True],\n",
    "              'max_features': ['sqrt', 'log2'],\n",
    "              'criterion': ['gini', 'entropy']}\n",
    "\n",
    "cv_rf = GridSearchCV(clf, cv = 10,\n",
    "                     param_grid=param_dist, \n",
    "                     n_jobs = 3)\n",
    "\n",
    "cv_rf.fit(X_train, y_train)\n",
    "print('Best Parameters using grid search: \\n', \n",
    "      cv_rf.best_params_)\n",
    "end = time.time()\n",
    "print('Time taken in grid search: {0: .2f}'.format(end - start))"
   ]
  },
  {
   "cell_type": "code",
   "execution_count": 74,
   "id": "e0ed755b",
   "metadata": {},
   "outputs": [
    {
     "data": {
      "text/plain": [
       "RandomForestClassifier(max_depth=2, max_features='sqrt', random_state=0)"
      ]
     },
     "execution_count": 74,
     "metadata": {},
     "output_type": "execute_result"
    }
   ],
   "source": [
    "# Set parameter terbaik grid search \n",
    "clf.set_params(criterion = 'gini',\n",
    "                  max_features = 'sqrt', \n",
    "                  max_depth = 2)"
   ]
  },
  {
   "cell_type": "markdown",
   "id": "565dda00",
   "metadata": {},
   "source": [
    "## Out of Bag Error Rate"
   ]
  },
  {
   "cell_type": "markdown",
   "id": "6903472c",
   "metadata": {},
   "source": [
    "Fitur lain dari random forest adalah error rate out-of-bag (OOB). Karena hanya dua pertiga dari data yang digunakan untuk melatih setiap pohon saat membangun hutan, sepertiga dari data yang tidak terlihat dapat digunakan dengan cara yang menguntungkan metrik akurasi kami tanpa menjadi mahal secara komputasi seperti validasi silang.\n",
    "\n",
    "Seperti diuraikan di bawah ini, saat menghitung OOB, dua parameter harus diubah. Dengan memanfaatkan for-loop di banyak ukuran hutan, kita dapat menghitung tingkat kesalahan OOB dan menggunakannya untuk menilai berapa banyak pohon yang sesuai untuk model kita."
   ]
  },
  {
   "cell_type": "code",
   "execution_count": 75,
   "id": "8db75f66",
   "metadata": {},
   "outputs": [
    {
     "name": "stderr",
     "output_type": "stream",
     "text": [
      "C:\\Users\\taqiy\\AppData\\Roaming\\Python\\Python39\\site-packages\\sklearn\\base.py:441: UserWarning: X does not have valid feature names, but RandomForestClassifier was fitted with feature names\n",
      "  warnings.warn(\n",
      "C:\\Users\\taqiy\\AppData\\Roaming\\Python\\Python39\\site-packages\\sklearn\\ensemble\\_forest.py:549: UserWarning: Some inputs do not have OOB scores. This probably means too few trees were used to compute any reliable OOB estimates.\n",
      "  warn(\n",
      "C:\\Users\\taqiy\\AppData\\Roaming\\Python\\Python39\\site-packages\\sklearn\\base.py:441: UserWarning: X does not have valid feature names, but RandomForestClassifier was fitted with feature names\n",
      "  warnings.warn(\n",
      "C:\\Users\\taqiy\\AppData\\Roaming\\Python\\Python39\\site-packages\\sklearn\\ensemble\\_forest.py:549: UserWarning: Some inputs do not have OOB scores. This probably means too few trees were used to compute any reliable OOB estimates.\n",
      "  warn(\n",
      "C:\\Users\\taqiy\\AppData\\Roaming\\Python\\Python39\\site-packages\\sklearn\\base.py:441: UserWarning: X does not have valid feature names, but RandomForestClassifier was fitted with feature names\n",
      "  warnings.warn(\n",
      "C:\\Users\\taqiy\\AppData\\Roaming\\Python\\Python39\\site-packages\\sklearn\\ensemble\\_forest.py:549: UserWarning: Some inputs do not have OOB scores. This probably means too few trees were used to compute any reliable OOB estimates.\n",
      "  warn(\n",
      "C:\\Users\\taqiy\\AppData\\Roaming\\Python\\Python39\\site-packages\\sklearn\\base.py:441: UserWarning: X does not have valid feature names, but RandomForestClassifier was fitted with feature names\n",
      "  warnings.warn(\n",
      "C:\\Users\\taqiy\\AppData\\Roaming\\Python\\Python39\\site-packages\\sklearn\\ensemble\\_forest.py:549: UserWarning: Some inputs do not have OOB scores. This probably means too few trees were used to compute any reliable OOB estimates.\n",
      "  warn(\n",
      "C:\\Users\\taqiy\\AppData\\Roaming\\Python\\Python39\\site-packages\\sklearn\\base.py:441: UserWarning: X does not have valid feature names, but RandomForestClassifier was fitted with feature names\n",
      "  warnings.warn(\n",
      "C:\\Users\\taqiy\\AppData\\Roaming\\Python\\Python39\\site-packages\\sklearn\\ensemble\\_forest.py:549: UserWarning: Some inputs do not have OOB scores. This probably means too few trees were used to compute any reliable OOB estimates.\n",
      "  warn(\n",
      "C:\\Users\\taqiy\\AppData\\Roaming\\Python\\Python39\\site-packages\\sklearn\\base.py:441: UserWarning: X does not have valid feature names, but RandomForestClassifier was fitted with feature names\n",
      "  warnings.warn(\n",
      "C:\\Users\\taqiy\\AppData\\Roaming\\Python\\Python39\\site-packages\\sklearn\\ensemble\\_forest.py:549: UserWarning: Some inputs do not have OOB scores. This probably means too few trees were used to compute any reliable OOB estimates.\n",
      "  warn(\n",
      "C:\\Users\\taqiy\\AppData\\Roaming\\Python\\Python39\\site-packages\\sklearn\\base.py:441: UserWarning: X does not have valid feature names, but RandomForestClassifier was fitted with feature names\n",
      "  warnings.warn(\n",
      "C:\\Users\\taqiy\\AppData\\Roaming\\Python\\Python39\\site-packages\\sklearn\\base.py:441: UserWarning: X does not have valid feature names, but RandomForestClassifier was fitted with feature names\n",
      "  warnings.warn(\n",
      "C:\\Users\\taqiy\\AppData\\Roaming\\Python\\Python39\\site-packages\\sklearn\\base.py:441: UserWarning: X does not have valid feature names, but RandomForestClassifier was fitted with feature names\n",
      "  warnings.warn(\n",
      "C:\\Users\\taqiy\\AppData\\Roaming\\Python\\Python39\\site-packages\\sklearn\\base.py:441: UserWarning: X does not have valid feature names, but RandomForestClassifier was fitted with feature names\n",
      "  warnings.warn(\n",
      "C:\\Users\\taqiy\\AppData\\Roaming\\Python\\Python39\\site-packages\\sklearn\\base.py:441: UserWarning: X does not have valid feature names, but RandomForestClassifier was fitted with feature names\n",
      "  warnings.warn(\n",
      "C:\\Users\\taqiy\\AppData\\Roaming\\Python\\Python39\\site-packages\\sklearn\\base.py:441: UserWarning: X does not have valid feature names, but RandomForestClassifier was fitted with feature names\n",
      "  warnings.warn(\n",
      "C:\\Users\\taqiy\\AppData\\Roaming\\Python\\Python39\\site-packages\\sklearn\\base.py:441: UserWarning: X does not have valid feature names, but RandomForestClassifier was fitted with feature names\n",
      "  warnings.warn(\n",
      "C:\\Users\\taqiy\\AppData\\Roaming\\Python\\Python39\\site-packages\\sklearn\\base.py:441: UserWarning: X does not have valid feature names, but RandomForestClassifier was fitted with feature names\n",
      "  warnings.warn(\n",
      "C:\\Users\\taqiy\\AppData\\Roaming\\Python\\Python39\\site-packages\\sklearn\\base.py:441: UserWarning: X does not have valid feature names, but RandomForestClassifier was fitted with feature names\n",
      "  warnings.warn(\n",
      "C:\\Users\\taqiy\\AppData\\Roaming\\Python\\Python39\\site-packages\\sklearn\\base.py:441: UserWarning: X does not have valid feature names, but RandomForestClassifier was fitted with feature names\n",
      "  warnings.warn(\n",
      "C:\\Users\\taqiy\\AppData\\Roaming\\Python\\Python39\\site-packages\\sklearn\\base.py:441: UserWarning: X does not have valid feature names, but RandomForestClassifier was fitted with feature names\n",
      "  warnings.warn(\n",
      "C:\\Users\\taqiy\\AppData\\Roaming\\Python\\Python39\\site-packages\\sklearn\\base.py:441: UserWarning: X does not have valid feature names, but RandomForestClassifier was fitted with feature names\n",
      "  warnings.warn(\n",
      "C:\\Users\\taqiy\\AppData\\Roaming\\Python\\Python39\\site-packages\\sklearn\\base.py:441: UserWarning: X does not have valid feature names, but RandomForestClassifier was fitted with feature names\n",
      "  warnings.warn(\n",
      "C:\\Users\\taqiy\\AppData\\Roaming\\Python\\Python39\\site-packages\\sklearn\\base.py:441: UserWarning: X does not have valid feature names, but RandomForestClassifier was fitted with feature names\n",
      "  warnings.warn(\n",
      "C:\\Users\\taqiy\\AppData\\Roaming\\Python\\Python39\\site-packages\\sklearn\\base.py:441: UserWarning: X does not have valid feature names, but RandomForestClassifier was fitted with feature names\n",
      "  warnings.warn(\n",
      "C:\\Users\\taqiy\\AppData\\Roaming\\Python\\Python39\\site-packages\\sklearn\\base.py:441: UserWarning: X does not have valid feature names, but RandomForestClassifier was fitted with feature names\n",
      "  warnings.warn(\n",
      "C:\\Users\\taqiy\\AppData\\Roaming\\Python\\Python39\\site-packages\\sklearn\\base.py:441: UserWarning: X does not have valid feature names, but RandomForestClassifier was fitted with feature names\n",
      "  warnings.warn(\n",
      "C:\\Users\\taqiy\\AppData\\Roaming\\Python\\Python39\\site-packages\\sklearn\\base.py:441: UserWarning: X does not have valid feature names, but RandomForestClassifier was fitted with feature names\n",
      "  warnings.warn(\n",
      "C:\\Users\\taqiy\\AppData\\Roaming\\Python\\Python39\\site-packages\\sklearn\\base.py:441: UserWarning: X does not have valid feature names, but RandomForestClassifier was fitted with feature names\n",
      "  warnings.warn(\n",
      "C:\\Users\\taqiy\\AppData\\Roaming\\Python\\Python39\\site-packages\\sklearn\\base.py:441: UserWarning: X does not have valid feature names, but RandomForestClassifier was fitted with feature names\n",
      "  warnings.warn(\n",
      "C:\\Users\\taqiy\\AppData\\Roaming\\Python\\Python39\\site-packages\\sklearn\\base.py:441: UserWarning: X does not have valid feature names, but RandomForestClassifier was fitted with feature names\n",
      "  warnings.warn(\n",
      "C:\\Users\\taqiy\\AppData\\Roaming\\Python\\Python39\\site-packages\\sklearn\\base.py:441: UserWarning: X does not have valid feature names, but RandomForestClassifier was fitted with feature names\n",
      "  warnings.warn(\n",
      "C:\\Users\\taqiy\\AppData\\Roaming\\Python\\Python39\\site-packages\\sklearn\\base.py:441: UserWarning: X does not have valid feature names, but RandomForestClassifier was fitted with feature names\n",
      "  warnings.warn(\n",
      "C:\\Users\\taqiy\\AppData\\Roaming\\Python\\Python39\\site-packages\\sklearn\\base.py:441: UserWarning: X does not have valid feature names, but RandomForestClassifier was fitted with feature names\n",
      "  warnings.warn(\n",
      "C:\\Users\\taqiy\\AppData\\Roaming\\Python\\Python39\\site-packages\\sklearn\\base.py:441: UserWarning: X does not have valid feature names, but RandomForestClassifier was fitted with feature names\n",
      "  warnings.warn(\n",
      "C:\\Users\\taqiy\\AppData\\Roaming\\Python\\Python39\\site-packages\\sklearn\\base.py:441: UserWarning: X does not have valid feature names, but RandomForestClassifier was fitted with feature names\n",
      "  warnings.warn(\n",
      "C:\\Users\\taqiy\\AppData\\Roaming\\Python\\Python39\\site-packages\\sklearn\\base.py:441: UserWarning: X does not have valid feature names, but RandomForestClassifier was fitted with feature names\n",
      "  warnings.warn(\n"
     ]
    },
    {
     "name": "stderr",
     "output_type": "stream",
     "text": [
      "C:\\Users\\taqiy\\AppData\\Roaming\\Python\\Python39\\site-packages\\sklearn\\base.py:441: UserWarning: X does not have valid feature names, but RandomForestClassifier was fitted with feature names\n",
      "  warnings.warn(\n",
      "C:\\Users\\taqiy\\AppData\\Roaming\\Python\\Python39\\site-packages\\sklearn\\base.py:441: UserWarning: X does not have valid feature names, but RandomForestClassifier was fitted with feature names\n",
      "  warnings.warn(\n",
      "C:\\Users\\taqiy\\AppData\\Roaming\\Python\\Python39\\site-packages\\sklearn\\base.py:441: UserWarning: X does not have valid feature names, but RandomForestClassifier was fitted with feature names\n",
      "  warnings.warn(\n",
      "C:\\Users\\taqiy\\AppData\\Roaming\\Python\\Python39\\site-packages\\sklearn\\base.py:441: UserWarning: X does not have valid feature names, but RandomForestClassifier was fitted with feature names\n",
      "  warnings.warn(\n",
      "C:\\Users\\taqiy\\AppData\\Roaming\\Python\\Python39\\site-packages\\sklearn\\base.py:441: UserWarning: X does not have valid feature names, but RandomForestClassifier was fitted with feature names\n",
      "  warnings.warn(\n",
      "C:\\Users\\taqiy\\AppData\\Roaming\\Python\\Python39\\site-packages\\sklearn\\base.py:441: UserWarning: X does not have valid feature names, but RandomForestClassifier was fitted with feature names\n",
      "  warnings.warn(\n",
      "C:\\Users\\taqiy\\AppData\\Roaming\\Python\\Python39\\site-packages\\sklearn\\base.py:441: UserWarning: X does not have valid feature names, but RandomForestClassifier was fitted with feature names\n",
      "  warnings.warn(\n",
      "C:\\Users\\taqiy\\AppData\\Roaming\\Python\\Python39\\site-packages\\sklearn\\base.py:441: UserWarning: X does not have valid feature names, but RandomForestClassifier was fitted with feature names\n",
      "  warnings.warn(\n",
      "C:\\Users\\taqiy\\AppData\\Roaming\\Python\\Python39\\site-packages\\sklearn\\base.py:441: UserWarning: X does not have valid feature names, but RandomForestClassifier was fitted with feature names\n",
      "  warnings.warn(\n",
      "C:\\Users\\taqiy\\AppData\\Roaming\\Python\\Python39\\site-packages\\sklearn\\base.py:441: UserWarning: X does not have valid feature names, but RandomForestClassifier was fitted with feature names\n",
      "  warnings.warn(\n",
      "C:\\Users\\taqiy\\AppData\\Roaming\\Python\\Python39\\site-packages\\sklearn\\base.py:441: UserWarning: X does not have valid feature names, but RandomForestClassifier was fitted with feature names\n",
      "  warnings.warn(\n",
      "C:\\Users\\taqiy\\AppData\\Roaming\\Python\\Python39\\site-packages\\sklearn\\base.py:441: UserWarning: X does not have valid feature names, but RandomForestClassifier was fitted with feature names\n",
      "  warnings.warn(\n",
      "C:\\Users\\taqiy\\AppData\\Roaming\\Python\\Python39\\site-packages\\sklearn\\base.py:441: UserWarning: X does not have valid feature names, but RandomForestClassifier was fitted with feature names\n",
      "  warnings.warn(\n"
     ]
    }
   ],
   "source": [
    "clf.set_params(warm_start=True, \n",
    "                  oob_score=True)\n",
    "\n",
    "min_estimators = 5\n",
    "max_estimators = 50\n",
    "\n",
    "error_rate = {}\n",
    "\n",
    "for i in range(min_estimators, max_estimators + 1):\n",
    "    clf.set_params(n_estimators=i)\n",
    "    clf.fit(X_train, y_train)\n",
    "\n",
    "    oob_error = 1 - clf.oob_score_\n",
    "    error_rate[i] = oob_error"
   ]
  },
  {
   "cell_type": "code",
   "execution_count": 78,
   "id": "45b95688",
   "metadata": {},
   "outputs": [
    {
     "data": {
      "text/plain": [
       "Text(0.5, 1.0, 'OOB Error Rate Across various Forest sizes \\n(From 200 to 1000 trees)')"
      ]
     },
     "execution_count": 78,
     "metadata": {},
     "output_type": "execute_result"
    },
    {
     "data": {
      "image/png": "[encoded data removed]",
      "text/plain": [
       "<Figure size 720x720 with 1 Axes>"
      ]
     },
     "metadata": {
      "needs_background": "light"
     },
     "output_type": "display_data"
    }
   ],
   "source": [
    "# Convert dictionary ke pandas series untuk memudahkan plotting\n",
    "oob_series = pd.Series(error_rate)\n",
    "\n",
    "fig, ax = plt.subplots(figsize=(10, 10))\n",
    "\n",
    "ax.set_facecolor('#fafafa')\n",
    "\n",
    "oob_series.plot(kind='line',\n",
    "                color = 'lightblue')\n",
    "plt.axhline(0.18, \n",
    "            color='red',\n",
    "           linestyle='--')\n",
    "plt.axhline(0.21, \n",
    "            color='red',\n",
    "           linestyle='--')\n",
    "plt.xlabel('n_estimators')\n",
    "plt.ylabel('OOB Error Rate')\n",
    "plt.title('OOB Error Rate Across various Forest sizes \\n(From 200 to 1000 trees)')"
   ]
  },
  {
   "cell_type": "markdown",
   "id": "971fc9e5",
   "metadata": {},
   "source": [
    "Tingkat kesalahan OOB mulai berosilasi di sekitar 10 pohon, jadi kita akan melanjutkan dan menggunakan 10 pohon di hutan. Menggunakan pandas series objek, kita dapat dengan mudah menemukan tingkat kesalahan OOB untuk penaksir sebagai berikut:"
   ]
  },
  {
   "cell_type": "code",
   "execution_count": 80,
   "id": "48005c9e",
   "metadata": {},
   "outputs": [
    {
     "name": "stdout",
     "output_type": "stream",
     "text": [
      "OOB Error rate for 10 trees is: 0.20000\n"
     ]
    }
   ],
   "source": [
    "print('OOB Error rate for 10 trees is: {0:.5f}'.format(oob_series[10]))"
   ]
  },
  {
   "cell_type": "markdown",
   "id": "92ff0ee9",
   "metadata": {},
   "source": [
    "## Training Model"
   ]
  },
  {
   "cell_type": "markdown",
   "id": "6d7c5c4d",
   "metadata": {},
   "source": [
    "Agar metodologi ini berfungsi, kita akan mengatur jumlah pohon yang dihitung menggunakan tingkat kesalahan OOB, dan menghapus parameter warm_start dan oob_score. Bersamaan dengan menyertakan parameter bootstrap."
   ]
  },
  {
   "cell_type": "code",
   "execution_count": 81,
   "id": "1dd17324",
   "metadata": {},
   "outputs": [
    {
     "data": {
      "text/plain": [
       "RandomForestClassifier(max_depth=2, max_features='sqrt', n_estimators=10,\n",
       "                       random_state=0)"
      ]
     },
     "execution_count": 81,
     "metadata": {},
     "output_type": "execute_result"
    }
   ],
   "source": [
    "clf.set_params(n_estimators=10,\n",
    "                  bootstrap = True,\n",
    "                  warm_start=False, \n",
    "                  oob_score=False)\n",
    "clf.fit(X_train, y_train)"
   ]
  },
  {
   "cell_type": "markdown",
   "id": "5e2c64c5",
   "metadata": {},
   "source": [
    "## Variable Importance"
   ]
  },
  {
   "cell_type": "markdown",
   "id": "903c5454",
   "metadata": {},
   "source": [
    "Selanjutnya melihat pentingnya fitur model dan menggunakan fungsi untuk menampilkan pentingnya variabel kita dalam urutan menurun."
   ]
  },
  {
   "cell_type": "code",
   "execution_count": 82,
   "id": "4e724a38",
   "metadata": {},
   "outputs": [],
   "source": [
    "def variable_importance(fit):\n",
    "    try:\n",
    "        if not hasattr(fit, 'fit'):\n",
    "            return print(\"'{0}' is not an instantiated model from scikit-learn\".format(fit)) \n",
    "\n",
    "        if not vars(fit)[\"estimators_\"]:\n",
    "            return print(\"Model tidak terlatih.\")\n",
    "    except KeyError:\n",
    "        print(\"Model yang dimasukkan tidak mengandung 'estimators_' attribute.\")\n",
    "\n",
    "    importances = fit.feature_importances_\n",
    "    indices = np.argsort(importances)[::-1]\n",
    "    return {'importance': importances,\n",
    "            'index': indices}"
   ]
  },
  {
   "cell_type": "code",
   "execution_count": 83,
   "id": "0617bfda",
   "metadata": {},
   "outputs": [],
   "source": [
    "var_imp_rf = variable_importance(clf)\n",
    "\n",
    "importances_rf = var_imp_rf['importance']\n",
    "\n",
    "indices_rf = var_imp_rf['index']"
   ]
  },
  {
   "cell_type": "code",
   "execution_count": 84,
   "id": "9d0bed9e",
   "metadata": {},
   "outputs": [],
   "source": [
    "def print_var_importance(importance, indices, name_index):\n",
    "    print(\"Feature ranking:\")\n",
    "\n",
    "    for f in range(0, indices.shape[0]):\n",
    "        i = f\n",
    "        print(\"{0}. The feature '{1}' has a Mean Decrease in Impurity of {2:.5f}\"\n",
    "              .format(f + 1,\n",
    "                      names_index[indices[i]],\n",
    "                      importance[indices[f]]))"
   ]
  },
  {
   "cell_type": "code",
   "execution_count": 85,
   "id": "4bf67f7e",
   "metadata": {},
   "outputs": [],
   "source": [
    "names_index = ['stemmed']"
   ]
  },
  {
   "cell_type": "code",
   "execution_count": 86,
   "id": "3eaf6377",
   "metadata": {},
   "outputs": [
    {
     "name": "stdout",
     "output_type": "stream",
     "text": [
      "Feature ranking:\n",
      "1. The feature 'stemmed' has a Mean Decrease in Impurity of 1.00000\n"
     ]
    }
   ],
   "source": [
    "print_var_importance(importances_rf, indices_rf, names_index)"
   ]
  },
  {
   "cell_type": "markdown",
   "id": "4e02028e",
   "metadata": {},
   "source": [
    "# Evaluasi Model Random Forest"
   ]
  },
  {
   "cell_type": "code",
   "execution_count": 91,
   "id": "7755c020",
   "metadata": {},
   "outputs": [
    {
     "data": {
      "image/png": "[encoded data removed]",
      "text/plain": [
       "<Figure size 792x360 with 2 Axes>"
      ]
     },
     "metadata": {
      "needs_background": "light"
     },
     "output_type": "display_data"
    }
   ],
   "source": [
    "clf = RandomForestClassifier(bootstrap=True, n_estimators=10, \n",
    "                             max_depth = 2, max_features='sqrt', random_state=0)\n",
    "clf = clf.fit(X_train, y_train)\n",
    "y_pred = clf.predict(X_test)\n",
    "\n",
    "# Melihat evaluasi model menggunakan confusion matrix\n",
    "plot_confusion_matrix(X_train, y_train, X_test, y_test, clf)"
   ]
  },
  {
   "cell_type": "code",
   "execution_count": 92,
   "id": "c6d050d8",
   "metadata": {},
   "outputs": [
    {
     "name": "stdout",
     "output_type": "stream",
     "text": [
      "              precision    recall  f1-score   support\n",
      "\n",
      "           0       0.00      0.00      0.00         1\n",
      "           1       0.85      1.00      0.92        17\n",
      "           2       0.00      0.00      0.00         2\n",
      "\n",
      "    accuracy                           0.85        20\n",
      "   macro avg       0.28      0.33      0.31        20\n",
      "weighted avg       0.72      0.85      0.78        20\n",
      "\n"
     ]
    },
    {
     "name": "stderr",
     "output_type": "stream",
     "text": [
      "C:\\Users\\taqiy\\AppData\\Roaming\\Python\\Python39\\site-packages\\sklearn\\metrics\\_classification.py:1308: UndefinedMetricWarning: Precision and F-score are ill-defined and being set to 0.0 in labels with no predicted samples. Use `zero_division` parameter to control this behavior.\n",
      "  _warn_prf(average, modifier, msg_start, len(result))\n",
      "C:\\Users\\taqiy\\AppData\\Roaming\\Python\\Python39\\site-packages\\sklearn\\metrics\\_classification.py:1308: UndefinedMetricWarning: Precision and F-score are ill-defined and being set to 0.0 in labels with no predicted samples. Use `zero_division` parameter to control this behavior.\n",
      "  _warn_prf(average, modifier, msg_start, len(result))\n",
      "C:\\Users\\taqiy\\AppData\\Roaming\\Python\\Python39\\site-packages\\sklearn\\metrics\\_classification.py:1308: UndefinedMetricWarning: Precision and F-score are ill-defined and being set to 0.0 in labels with no predicted samples. Use `zero_division` parameter to control this behavior.\n",
      "  _warn_prf(average, modifier, msg_start, len(result))\n"
     ]
    }
   ],
   "source": [
    "# Melihat hasil klasifikasi\n",
    "print(classification_report(y_test, y_pred))"
   ]
  }
 ],
 "metadata": {
  "kernelspec": {
   "display_name": "Python 3 (ipykernel)",
   "language": "python",
   "name": "python3"
  },
  "language_info": {
   "codemirror_mode": {
    "name": "ipython",
    "version": 3
   },
   "file_extension": ".py",
   "mimetype": "text/x-python",
   "name": "python",
   "nbconvert_exporter": "python",
   "pygments_lexer": "ipython3",
   "version": "3.9.7"
  }
 },
 "nbformat": 4,
 "nbformat_minor": 5
}
